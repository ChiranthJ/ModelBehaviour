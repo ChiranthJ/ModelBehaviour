{
 "cells": [
  {
   "cell_type": "code",
   "execution_count": 98,
   "metadata": {},
   "outputs": [],
   "source": [
    "#importing packages\n",
    "import pandas as pd\n",
    "import numpy as np\n",
    "from sklearn import metrics \n",
    "from sklearn.model_selection import train_test_split \n",
    "from sklearn.utils import resample\n",
    "from sklearn.linear_model import LogisticRegression\n",
    "from sklearn.tree import DecisionTreeClassifier\n",
    "from sklearn.ensemble import RandomForestClassifier\n",
    "from sklearn.metrics import classification_report, confusion_matrix, accuracy_score\n",
    "import matplotlib.pyplot as plt\n",
    "\n",
    "#using pandas to import the training data\n",
    "processeddata=pd.read_csv(r'C:\\\\Users\\\\diyas\\\\Desktop\\\\SEM5\\\\Data_Analytics\\\\Project\\\\ModelBehaviour-master\\\\preprocessed_wosq.csv', index_col='Id')"
   ]
  },
  {
   "cell_type": "code",
   "execution_count": 99,
   "metadata": {},
   "outputs": [],
   "source": [
    "#data balancing\n",
    "class_names=processeddata.Target.unique()\n",
    "class_names=list(class_names)\n",
    "col=list(processeddata.columns)\n",
    "data_notnum = list(processeddata.select_dtypes(exclude=[np.number]).columns)\n",
    "col=list(filter(lambda a: a not in data_notnum, col))\n",
    "col.pop(-1)\n",
    "x=processeddata[col]\n",
    "y=processeddata.Target\n",
    "x_train, x_test, y_train, y_test = train_test_split(x,y,test_size=0.4, random_state=1)\n",
    "train = pd.concat([x_train, y_train], axis=1)\n",
    "#Seperating the majority and minority classes\n",
    "#in this case the majority class is 4 (non vulnerable households)\n",
    "majority=train[train.Target==4]\n",
    "minority1=train[train.Target==1]\n",
    "minority2=train[train.Target==2]\n",
    "minority3=train[train.Target==3]\n",
    "minority_upsampled1=resample(minority1, replace=True, n_samples=len(majority), random_state=1)\n",
    "minority_upsampled2=resample(minority2, replace=True, n_samples=len(majority), random_state=1)\n",
    "minority_upsampled3=resample(minority3, replace=True, n_samples=len(majority), random_state=1)\n",
    "upsampled=pd.concat([majority,minority_upsampled1,minority_upsampled2,minority_upsampled3])\n",
    "#print(\"Values before upsampling \\n\", train.Target.value_counts())\n",
    "#print(\"Values after upsampling\\n\", upsampled.Target.value_counts())"
   ]
  },
  {
   "cell_type": "code",
   "execution_count": 100,
   "metadata": {},
   "outputs": [],
   "source": [
    "#using Random Forest Classifier\n",
    "y_train=upsampled.Target\n",
    "x_train=upsampled.drop(\"Target\",axis=1)"
   ]
  },
  {
   "cell_type": "code",
   "execution_count": 113,
   "metadata": {},
   "outputs": [],
   "source": [
    "#plotting a graph to find optimum value for number of decisions(n_estimators =?) trees to be used\n",
    "l=[]\n",
    "for i in range(1,150):\n",
    "    regressor = RandomForestClassifier(n_estimators = i, random_state = 0)\n",
    "    regressor.fit(x_train, y_train)  \n",
    "    y_pred= regressor.predict(x_test)\n",
    "    l.append(accuracy_score(y_test, y_pred))"
   ]
  },
  {
   "cell_type": "code",
   "execution_count": 114,
   "metadata": {},
   "outputs": [
    {
     "data": {
      "text/plain": [
       "[<matplotlib.lines.Line2D at 0x15182999550>]"
      ]
     },
     "execution_count": 114,
     "metadata": {},
     "output_type": "execute_result"
    },
    {
     "data": {
      "image/png": "[encoded data removed]",
      "text/plain": [
       "<Figure size 432x288 with 1 Axes>"
      ]
     },
     "metadata": {
      "needs_background": "light"
     },
     "output_type": "display_data"
    }
   ],
   "source": [
    "plt.plot(l)\n",
    "#can be observed that n_estimators=50 gives approximately highest accuracy score "
   ]
  },
  {
   "cell_type": "code",
   "execution_count": 116,
   "metadata": {},
   "outputs": [],
   "source": [
    "# create classifier object with n_estimators = 50\n",
    "# fit the model with x and y data \n",
    "regressor = RandomForestClassifier(n_estimators = 50, random_state = 0)\n",
    "regressor.fit(x_train, y_train)  \n",
    "y_pred= regressor.predict(x_test)\n"
   ]
  },
  {
   "cell_type": "code",
   "execution_count": 117,
   "metadata": {},
   "outputs": [
    {
     "name": "stdout",
     "output_type": "stream",
     "text": [
      "Confusion matrix\n",
      "[[ 266    8    7   40]\n",
      " [  18  551    5   69]\n",
      " [   7    9  406   57]\n",
      " [   1   14   11 2354]]\n",
      "\n",
      "\n",
      "Accuracy score\n",
      "0.9356526288255297\n"
     ]
    }
   ],
   "source": [
    "#performance metrics for random forest classifier\n",
    "\n",
    "#printing confusion matrix\n",
    "print('Confusion matrix')\n",
    "print(confusion_matrix(y_test,y_pred))\n",
    "print('\\n')\n",
    "#print(classification_report(y_test,y_pred))\n",
    "\n",
    "#Print accuracy\n",
    "print(\"Accuracy score\")\n",
    "print(accuracy_score(y_test, y_pred))"
   ]
  },
  {
   "cell_type": "code",
   "execution_count": 118,
   "metadata": {},
   "outputs": [
    {
     "name": "stdout",
     "output_type": "stream",
     "text": [
      "0.905636065005876\n"
     ]
    }
   ],
   "source": [
    "print(metrics.f1_score(y_test, y_pred,average='macro'))"
   ]
  },
  {
   "cell_type": "code",
   "execution_count": null,
   "metadata": {},
   "outputs": [],
   "source": []
  }
 ],
 "metadata": {
  "kernelspec": {
   "display_name": "Python 3",
   "language": "python",
   "name": "python3"
  },
  "language_info": {
   "codemirror_mode": {
    "name": "ipython",
    "version": 3
   },
   "file_extension": ".py",
   "mimetype": "text/x-python",
   "name": "python",
   "nbconvert_exporter": "python",
   "pygments_lexer": "ipython3",
   "version": "3.7.0"
  }
 },
 "nbformat": 4,
 "nbformat_minor": 2
}
