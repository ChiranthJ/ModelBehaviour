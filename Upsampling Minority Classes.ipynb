{
 "cells": [
  {
   "cell_type": "code",
   "execution_count": 48,
   "metadata": {},
   "outputs": [],
   "source": [
    "import pandas as pd\n",
    "import numpy as np\n",
    "from sklearn import metrics \n",
    "from sklearn.model_selection import train_test_split \n",
    "from sklearn.utils import resample\n",
    "from sklearn.linear_model import LogisticRegression\n",
    "from sklearn.tree import DecisionTreeClassifier\n",
    "processeddata=pd.read_csv(r\"preprocessed_wosq.csv\") #Preprocessed data without squared columns\n",
    "#The issue we face with this data is unbalanced classes due to which we are not able to get an accurate response\n",
    "#we deal with this using upsampling and downsampling\n",
    "#The methods for both upsampling and downsampling are going to be tried and accuracy is to be checked\n"
   ]
  },
  {
   "cell_type": "code",
   "execution_count": 49,
   "metadata": {},
   "outputs": [
    {
     "name": "stdout",
     "output_type": "stream",
     "text": [
      "Values before upsampling \n",
      " 4    3624\n",
      "2     915\n",
      "3     742\n",
      "1     453\n",
      "Name: Target, dtype: int64\n",
      "Values after upsampling\n",
      " 4    3624\n",
      "3    3624\n",
      "2    3624\n",
      "1    3624\n",
      "Name: Target, dtype: int64\n"
     ]
    }
   ],
   "source": [
    "# di = {1: \"extreme poverty\", 2: \"moderate poverty\",3:\"vulnerable households\",4:\"non vulnerable households\"}\n",
    "# processeddata['Target']=processeddata['Target'].map(di)\n",
    "class_names=processeddata.Target.unique()\n",
    "class_names=list(class_names)\n",
    "col=list(processeddata.columns)\n",
    "data_notnum = list(processeddata.select_dtypes(exclude=[np.number]).columns)\n",
    "col=list(filter(lambda a: a not in data_notnum, col))\n",
    "col.pop(-1)\n",
    "x=processeddata[col]\n",
    "y=processeddata.Target\n",
    "x_train, x_test, y_train, y_test = train_test_split(x,y,test_size=0.4, random_state=1)\n",
    "train = pd.concat([x_train, y_train], axis=1)\n",
    "#Seperating the majority and minority classes\n",
    "#in this case the majority class is 4 (non vulnerable households)\n",
    "majority=train[train.Target==4]\n",
    "minority1=train[train.Target==1]\n",
    "minority2=train[train.Target==2]\n",
    "minority3=train[train.Target==3]\n",
    "minority_upsampled1=resample(minority1, replace=True, n_samples=len(majority), random_state=1)\n",
    "minority_upsampled2=resample(minority2, replace=True, n_samples=len(majority), random_state=1)\n",
    "minority_upsampled3=resample(minority3, replace=True, n_samples=len(majority), random_state=1)\n",
    "upsampled=pd.concat([majority,minority_upsampled1,minority_upsampled2,minority_upsampled3])\n",
    "print(\"Values before upsampling \\n\", train.Target.value_counts())\n",
    "print(\"Values after upsampling\\n\", upsampled.Target.value_counts())"
   ]
  },
  {
   "cell_type": "code",
   "execution_count": 38,
   "metadata": {},
   "outputs": [
    {
     "name": "stderr",
     "output_type": "stream",
     "text": [
      "C:\\ProgramData\\Anaconda3\\lib\\site-packages\\sklearn\\linear_model\\logistic.py:460: FutureWarning: Default multi_class will be changed to 'auto' in 0.22. Specify the multi_class option to silence this warning.\n",
      "  \"this warning.\", FutureWarning)\n"
     ]
    }
   ],
   "source": [
    "#Using Decision Trees\n",
    "y_train=upsampled.Target\n",
    "x_train=upsampled.drop(\"Target\",axis=1)\n",
    "upsampled = LogisticRegression(solver='liblinear').fit(x_train, y_train)\n",
    "upsampled_pred = upsampled.predict(x_test)"
   ]
  },
  {
   "cell_type": "code",
   "execution_count": 47,
   "metadata": {},
   "outputs": [
    {
     "name": "stdout",
     "output_type": "stream",
     "text": [
      "0.39471917132587386\n"
     ]
    }
   ],
   "source": [
    "print(metrics.f1_score(y_test, upsampled_pred,average='macro'))"
   ]
  },
  {
   "cell_type": "code",
   "execution_count": null,
   "metadata": {},
   "outputs": [],
   "source": []
  }
 ],
 "metadata": {
  "kernelspec": {
   "display_name": "Python 3",
   "language": "python",
   "name": "python3"
  },
  "language_info": {
   "codemirror_mode": {
    "name": "ipython",
    "version": 3
   },
   "file_extension": ".py",
   "mimetype": "text/x-python",
   "name": "python",
   "nbconvert_exporter": "python",
   "pygments_lexer": "ipython3",
   "version": "3.7.3"
  }
 },
 "nbformat": 4,
 "nbformat_minor": 2
}
